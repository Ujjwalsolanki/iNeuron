{
 "cells": [
  {
   "cell_type": "markdown",
   "id": "c871ac03",
   "metadata": {},
   "source": [
    "**Number 1**\n",
    "\n",
    "What exactly is []?\n",
    "\n",
    "**Answer**\n",
    "\n",
    "The empty list value\n",
    "Similar to empty string \n",
    "Eg: string1 = \"\"\n",
    "\n",
    "**------------------------------------------------------------------------------------------------**"
   ]
  },
  {
   "cell_type": "markdown",
   "id": "73d05895",
   "metadata": {},
   "source": [
    "**Number 2**\n",
    "\n",
    "In a list of values stored in a variable called spam, how would you assign the value 'hello' as the\n",
    "third value? (Assume [2, 4, 6, 8, 10] are in spam.)\n",
    "\n",
    "**Answer**\n",
    "\n",
    "spam[2] = 'hello'\n",
    "\n",
    "**------------------------------------------------------------------------------------------------**"
   ]
  },
  {
   "cell_type": "markdown",
   "id": "2f66a5bc",
   "metadata": {},
   "source": [
    "**------------------------------------------------------------------------------------------------**\n",
    "\n",
    "Let's pretend the spam includes the list ['a','b','c','d'] for the next three queries.\n",
    "\n",
    "**------------------------------------------------------------------------------------------------**"
   ]
  },
  {
   "cell_type": "markdown",
   "id": "5b024f89",
   "metadata": {},
   "source": [
    "**Number 3**\n",
    "\n",
    "What is the value of spam[int(int('3' * 2) / 11)]?\n",
    "\n",
    "**Answer**\n",
    "'d'\n",
    "\n",
    "\n",
    "**------------------------------------------------------------------------------------------------**"
   ]
  },
  {
   "cell_type": "code",
   "execution_count": 1,
   "id": "b4639ca4",
   "metadata": {},
   "outputs": [
    {
     "data": {
      "text/plain": [
       "'d'"
      ]
     },
     "execution_count": 1,
     "metadata": {},
     "output_type": "execute_result"
    }
   ],
   "source": [
    "spam = ['a','b','c','d']\n",
    "spam[int(int('3' * 2) / 11)]"
   ]
  },
  {
   "cell_type": "markdown",
   "id": "fe13740c",
   "metadata": {},
   "source": [
    "**------------------------------------------------------------------------------------------------**"
   ]
  },
  {
   "cell_type": "markdown",
   "id": "ec1dfbe2",
   "metadata": {},
   "source": [
    "**Number 4**\n",
    "\n",
    "What is the value of spam[-1]?\n",
    "\n",
    "**Answer**\n",
    "\n",
    "'d'\n"
   ]
  },
  {
   "cell_type": "code",
   "execution_count": 2,
   "id": "a9e16447",
   "metadata": {},
   "outputs": [
    {
     "data": {
      "text/plain": [
       "'d'"
      ]
     },
     "execution_count": 2,
     "metadata": {},
     "output_type": "execute_result"
    }
   ],
   "source": [
    "spam[-1]"
   ]
  },
  {
   "cell_type": "markdown",
   "id": "eff97343-cc5c-4fde-9af3-f91846d44121",
   "metadata": {},
   "source": [
    "**------------------------------------------------------------------------------------------------**"
   ]
  },
  {
   "cell_type": "markdown",
   "id": "fd0d574b-9048-4949-bc1b-f9c0868c4136",
   "metadata": {},
   "source": [
    "**Number 5**\n",
    "\n",
    "What is the value of spam[:2]?\n",
    "\n",
    "**Answer**\n",
    "\n",
    "this will give us values of index 0 and index 1 it will not give value of index 2 in list\n",
    "which is ['a', 'b']"
   ]
  },
  {
   "cell_type": "code",
   "execution_count": 3,
   "id": "95138107",
   "metadata": {},
   "outputs": [
    {
     "data": {
      "text/plain": [
       "['a', 'b']"
      ]
     },
     "execution_count": 3,
     "metadata": {},
     "output_type": "execute_result"
    }
   ],
   "source": [
    "spam[:2]"
   ]
  },
  {
   "cell_type": "markdown",
   "id": "d7bb8a9f-57ae-41f1-9be0-09404cd97b38",
   "metadata": {},
   "source": [
    "**------------------------------------------------------------------------------------------------**"
   ]
  },
  {
   "cell_type": "markdown",
   "id": "8964c0bd",
   "metadata": {},
   "source": [
    "**------------------------------------------------------------------------------------------------**\n",
    "\n",
    "Let's pretend bacon has the list [3.14, 'cat', 11, 'cat', True] for the next three questions.\n",
    "\n",
    "**------------------------------------------------------------------------------------------------**"
   ]
  },
  {
   "cell_type": "markdown",
   "id": "e74bf0b2",
   "metadata": {},
   "source": [
    "**Number 6**\n",
    "\n",
    "What is the value of bacon.index('cat')?\n",
    "\n",
    "**Answer**\n",
    "\n",
    "This will give us Index of 1, it will find the first match and return the value of that index"
   ]
  },
  {
   "cell_type": "code",
   "execution_count": 4,
   "id": "e62b7070",
   "metadata": {},
   "outputs": [
    {
     "data": {
      "text/plain": [
       "1"
      ]
     },
     "execution_count": 4,
     "metadata": {},
     "output_type": "execute_result"
    }
   ],
   "source": [
    "bacon = [3.14, 'cat', 11, 'cat', True]\n",
    "bacon.index('cat')"
   ]
  },
  {
   "cell_type": "markdown",
   "id": "f5efcc23-83f8-4b78-8a05-38c47e202973",
   "metadata": {},
   "source": [
    "**------------------------------------------------------------------------------------------------**"
   ]
  },
  {
   "cell_type": "markdown",
   "id": "0a858971",
   "metadata": {},
   "source": [
    "**Number 7**\n",
    "\n",
    "How does bacon.append(99) change the look of the list value in bacon?\n",
    "\n",
    "**Answer**\n",
    "\n",
    "[3.14, 'cat', 11, 'cat', True, 99]"
   ]
  },
  {
   "cell_type": "code",
   "execution_count": 5,
   "id": "e64db750",
   "metadata": {},
   "outputs": [
    {
     "data": {
      "text/plain": [
       "[3.14, 'cat', 11, 'cat', True, 99]"
      ]
     },
     "execution_count": 5,
     "metadata": {},
     "output_type": "execute_result"
    }
   ],
   "source": [
    "bacon.append(99)\n",
    "bacon"
   ]
  },
  {
   "cell_type": "markdown",
   "id": "aa8237c9-3655-4623-bb86-dcb0b66a74da",
   "metadata": {},
   "source": [
    "**------------------------------------------------------------------------------------------------**"
   ]
  },
  {
   "cell_type": "markdown",
   "id": "9188829a",
   "metadata": {},
   "source": [
    "**Number 8**\n",
    "\n",
    "How does bacon.remove('cat') change the look of the list in bacon?\n",
    "\n",
    "**Answer**\n",
    "It will remove just first value of 'cat'\n",
    "\n",
    "[3.14, 11, 'cat', True, 99]"
   ]
  },
  {
   "cell_type": "code",
   "execution_count": 6,
   "id": "b14b4cf1",
   "metadata": {},
   "outputs": [
    {
     "data": {
      "text/plain": [
       "[3.14, 11, 'cat', True, 99]"
      ]
     },
     "execution_count": 6,
     "metadata": {},
     "output_type": "execute_result"
    }
   ],
   "source": [
    "bacon.remove('cat')\n",
    "bacon"
   ]
  },
  {
   "cell_type": "markdown",
   "id": "191ded6b-807d-44e2-8fb8-8653aecd9dec",
   "metadata": {},
   "source": [
    "**------------------------------------------------------------------------------------------------**"
   ]
  },
  {
   "cell_type": "markdown",
   "id": "cc3e690e",
   "metadata": {},
   "source": [
    "**Number 9**\n",
    "\n",
    "What are the list concatenation and list replication operators?\n",
    "\n",
    "**Answer**\n",
    "\n",
    "for concatenation  + \n",
    "\n",
    "for replication *\n",
    "\n",
    "**------------------------------------------------------------------------------------------------**"
   ]
  },
  {
   "cell_type": "markdown",
   "id": "8daf2978",
   "metadata": {},
   "source": [
    "**Number 10**\n",
    "\n",
    "What is difference between the list methods append() and insert()?\n",
    "\n",
    "**Answer**\n",
    "\n",
    "with append, you just add a new entry at the end of the list. With insert(position, new_entry) you can create a new entry exactly in the position you want.\n",
    "\n",
    "**------------------------------------------------------------------------------------------------**"
   ]
  },
  {
   "cell_type": "markdown",
   "id": "6eb5d79e",
   "metadata": {},
   "source": [
    "**Number 11**\n",
    "\n",
    "What are the two methods for removing items from a list?\n",
    "\n",
    "**Answer**\n",
    "\n",
    "remove()\n",
    "\n",
    "pop()\n",
    "\n",
    "clear()\n",
    "\n",
    "\n",
    "**------------------------------------------------------------------------------------------------**"
   ]
  },
  {
   "cell_type": "markdown",
   "id": "c548926f",
   "metadata": {},
   "source": [
    "**Number 12**\n",
    "\n",
    "Describe how list values and string values are identical.\n",
    "\n",
    "**Answer**\n",
    "\n",
    "Lists are similar to strings, which are ordered collections of characters, except that the elements of a list can have any type and for any one list, the items can be of different types.\n",
    "\n",
    "\n",
    "**------------------------------------------------------------------------------------------------**"
   ]
  },
  {
   "cell_type": "markdown",
   "id": "9744da48",
   "metadata": {},
   "source": [
    "**Number 13**\n",
    "\n",
    "What's the difference between tuples and lists?\n",
    "\n",
    "**Answer**\n",
    "\n",
    "Main differnce is tuples are immutable and list are mutable\n",
    "\n",
    "**------------------------------------------------------------------------------------------------**"
   ]
  },
  {
   "cell_type": "markdown",
   "id": "83354fcf",
   "metadata": {},
   "source": [
    "**Number 14**\n",
    "\n",
    "How do you type a tuple value that only contains the integer 42?\n",
    "\n",
    "**Answer**\n",
    "\n",
    "I was unaware about tailing comma but once I googled it, (The trailing comma is mandatory.)\n",
    "\n",
    "(42,)\n",
    "\n",
    "**------------------------------------------------------------------------------------------------**"
   ]
  },
  {
   "cell_type": "markdown",
   "id": "ccc9a8cd",
   "metadata": {},
   "source": [
    "**Number 15**\n",
    "\n",
    "How do you get a list value's tuple form? How do you get a tuple value's list form?\n",
    "\n",
    "**Answer**\n",
    "\n",
    "tuple() and list() functions, respectively\n",
    "\n",
    "**------------------------------------------------------------------------------------------------**"
   ]
  },
  {
   "cell_type": "markdown",
   "id": "361a2160",
   "metadata": {},
   "source": [
    "**Number 16**\n",
    "\n",
    "Variables that \"contain\" list values are not necessarily lists themselves. Instead, what do they contain?\n",
    "\n",
    "**Answer**\n",
    "\n",
    "They contain references to list values.\n",
    "\n",
    "**------------------------------------------------------------------------------------------------**"
   ]
  },
  {
   "cell_type": "markdown",
   "id": "5f6045fe",
   "metadata": {},
   "source": [
    "**Number 17**\n",
    "\n",
    "How do you distinguish between copy.copy() and copy.deepcopy()?\n",
    "\n",
    "**Answer**\n",
    "\n",
    "copy.copy() will do shallow copy - Its address location is not changed\n",
    "copy.deepcopy() will do deep copy and its address location will be changed\n",
    "\n",
    "**------------------------------------------------------------------------------------------------**"
   ]
  }
 ],
 "metadata": {
  "kernelspec": {
   "display_name": "Python 3 (ipykernel)",
   "language": "python",
   "name": "python3"
  },
  "language_info": {
   "codemirror_mode": {
    "name": "ipython",
    "version": 3
   },
   "file_extension": ".py",
   "mimetype": "text/x-python",
   "name": "python",
   "nbconvert_exporter": "python",
   "pygments_lexer": "ipython3",
   "version": "3.11.5"
  }
 },
 "nbformat": 4,
 "nbformat_minor": 5
}
