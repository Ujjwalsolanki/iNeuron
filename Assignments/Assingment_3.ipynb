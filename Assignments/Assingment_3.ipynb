{
 "cells": [
  {
   "cell_type": "markdown",
   "id": "17218f4b",
   "metadata": {},
   "source": [
    "**Number 1**\n",
    "\n",
    "Why are functions advantageous to have in your programs?\n",
    "\n",
    "**Answer**\n",
    "\n",
    "Functions reduces duplicate codes hence program is more readable and easier to update"
   ]
  },
  {
   "cell_type": "markdown",
   "id": "95f16d52",
   "metadata": {},
   "source": [
    "**Number 2** \n",
    "\n",
    "When does the code in a function run: when it's specified or when it's called?\n",
    "\n",
    "**Answer**\n",
    "\n",
    "The code in a function executes when the function is called, not when the function is defined.\n",
    "\n",
    "\n"
   ]
  },
  {
   "cell_type": "markdown",
   "id": "a434e973",
   "metadata": {},
   "source": []
  },
  {
   "cell_type": "markdown",
   "id": "55bbb076",
   "metadata": {},
   "source": [
    "**Number 3** \n",
    "\n",
    "What statement creates a function?\n",
    "\n",
    "**Answer**\n",
    "\n",
    "def keyword, defines (create) function in python"
   ]
  },
  {
   "cell_type": "markdown",
   "id": "d50c6f46",
   "metadata": {},
   "source": [
    "**Number 4**\n",
    "\n",
    "What is the difference between a function and a function call?\n",
    "\n",
    "**Answer**\n",
    "\n",
    "function is creating executable code block using def key word\n",
    "function call is when at the time of execution that code block is being run by interpreter"
   ]
  },
  {
   "cell_type": "markdown",
   "id": "0dc45feb",
   "metadata": {},
   "source": [
    "**Number 5**\n",
    "\n",
    "How many global scopes are there in a Python program? How many local scopes?\n",
    "\n",
    "**Answer**\n",
    "\n",
    "There is one global scope, and a local scope is created whenever a function is called."
   ]
  },
  {
   "cell_type": "markdown",
   "id": "dd083e73",
   "metadata": {},
   "source": [
    "**Number 6**\n",
    "\n",
    "What happens to variables in a local scope when the function call returns?\n",
    "\n",
    "**Answer**\n",
    "\n",
    "What happens to variables in a local scope when the function call returns?\n",
    "When a function returns, the local scope is destroyed, and all the variables in it are forgotten.\n"
   ]
  },
  {
   "cell_type": "markdown",
   "id": "2546c6a6",
   "metadata": {},
   "source": [
    "**NUmber 7**\n",
    "\n",
    "What is the concept of a return value? Is it possible to have a return value in an expression?\n",
    "\n",
    "**Answer**\n",
    "\n",
    "A return value is the value that a function call evaluates to\n"
   ]
  },
  {
   "cell_type": "markdown",
   "id": "64e88038",
   "metadata": {},
   "source": [
    "**Number 8**\n",
    "\n",
    "\n",
    "If a function does not have a return statement, what is the return value of a call to that function?\n",
    "\n",
    "**Answer**\n",
    "\n",
    "None\n"
   ]
  },
  {
   "cell_type": "markdown",
   "id": "b2db9ea3",
   "metadata": {},
   "source": [
    "**Number 9**\n",
    "\n",
    "How do you make a function variable refer to the global variable?\n",
    "\n",
    "**Answer**\n",
    "\n",
    "Using global keyword\n"
   ]
  },
  {
   "cell_type": "markdown",
   "id": "8917d916",
   "metadata": {},
   "source": [
    "**Number 10**\n",
    "\n",
    "What is the data type of None?\n",
    "\n",
    "**Answer**\n",
    "\n",
    "None data type"
   ]
  },
  {
   "cell_type": "markdown",
   "id": "07ca6932",
   "metadata": {},
   "source": [
    "**Number 11**\n",
    "\n",
    "What does the sentence import areallyourpetsnamederic do?\n",
    "\n",
    "**Answer**\n",
    "\n",
    "That import statement imports a module named areallyourpetsnamederic.\n",
    "\n"
   ]
  },
  {
   "cell_type": "markdown",
   "id": "5270d9e3",
   "metadata": {},
   "source": [
    "**Numner 12**\n",
    "\n",
    "If you had a bacon() feature in a spam module, what would you call it after importing spam?\n",
    "\n",
    "**Answer**\n",
    "\n",
    "spam.bacon()\n"
   ]
  },
  {
   "cell_type": "markdown",
   "id": "9d83a237",
   "metadata": {},
   "source": [
    "**Number 13**\n",
    "\n",
    "What can you do to save a programme from crashing if it encounters an error?\n",
    "\n",
    "**Answer**\n",
    "\n",
    "Using try catch statement and handling error.\n",
    "we can use logging as well to find error quickly and resolve it"
   ]
  },
  {
   "cell_type": "markdown",
   "id": "9a5d62e4",
   "metadata": {},
   "source": [
    "**Number 14**\n",
    "\n",
    "What is the purpose of the try clause? What is the purpose of the except clause?\n",
    "\n",
    "**Answer**\n",
    "\n",
    "try clause is used to catch an unexpected error in code while execution.\n",
    "catch clause will catch those errors, we can log that error to solve that error as well as we can give user a non technical error messsage which they can understand easily.\n",
    "this way, entire program will not crash"
   ]
  },
  {
   "cell_type": "markdown",
   "id": "806c42de",
   "metadata": {},
   "source": []
  }
 ],
 "metadata": {
  "language_info": {
   "name": "python"
  }
 },
 "nbformat": 4,
 "nbformat_minor": 5
}
