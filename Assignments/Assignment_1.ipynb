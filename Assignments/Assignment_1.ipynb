{
 "cells": [
  {
   "cell_type": "markdown",
   "id": "17df40e2-b085-4982-bdae-a8c8714a1546",
   "metadata": {},
   "source": [
    "**Number 1**"
   ]
  },
  {
   "cell_type": "markdown",
   "id": "15046a06-3ccb-4fe6-8e9f-0dff3caa394a",
   "metadata": {},
   "source": [
    "In the below elements which of them are values or an expression? eg:- values can be integer or string and expressions will be mathematical operators."
   ]
  },
  {
   "cell_type": "markdown",
   "id": "bf4f6802-c9d0-45ee-958a-50994e851c60",
   "metadata": {},
   "source": [
    "**Answer**"
   ]
  },
  {
   "cell_type": "raw",
   "id": "ec1094a8-cbe7-422c-82de-467bd5269f21",
   "metadata": {},
   "source": [
    "* **Expression**\n",
    "'hello' **String Value**\n",
    "-87.8 **Float Value**\n",
    "- **Expression**\n",
    "/ **Expression**\n",
    "+ **Expression**\n",
    "6 **Interger Value**\n"
   ]
  },
  {
   "cell_type": "markdown",
   "id": "93ad1fac-e693-4ffe-945c-2e99e3a19cc5",
   "metadata": {},
   "source": [
    "**-------------------------------------------------------------------------------------------------**"
   ]
  },
  {
   "cell_type": "markdown",
   "id": "e0a311d8-b1b4-4670-bbbb-549c3d6b9fb2",
   "metadata": {},
   "source": [
    "**Number 2**"
   ]
  },
  {
   "cell_type": "markdown",
   "id": "65374ada-a26a-47d2-a8b2-d00099cbc664",
   "metadata": {},
   "source": [
    "What is the difference between string and variable?"
   ]
  },
  {
   "cell_type": "markdown",
   "id": "8b270d03-a1c3-4439-b724-b8bc2375f270",
   "metadata": {},
   "source": [
    "**Answer**"
   ]
  },
  {
   "cell_type": "raw",
   "id": "14740489-4d44-473f-b79e-6d100ecc7bb5",
   "metadata": {},
   "source": [
    "String is static and immutable value\n",
    "where variables can be anything Integer, string, float or an object of a class. they are mutable. Variables can also hold string data as well."
   ]
  },
  {
   "cell_type": "markdown",
   "id": "02da4bf0-5698-41a7-b2a2-09864ab42cf7",
   "metadata": {},
   "source": [
    "**-------------------------------------------------------------------------------------------------**"
   ]
  },
  {
   "cell_type": "markdown",
   "id": "d419db3c-670b-4e8c-a941-e0fc0b8e4887",
   "metadata": {},
   "source": [
    "**Number 3**"
   ]
  },
  {
   "cell_type": "markdown",
   "id": "ccdfb5f3-567d-4d54-9ba2-db5b0fe1f09e",
   "metadata": {},
   "source": [
    "Describe three different data types.\n"
   ]
  },
  {
   "cell_type": "markdown",
   "id": "58c5521c-e7db-437c-b63a-ab44cf8a945e",
   "metadata": {},
   "source": [
    "**Answer**"
   ]
  },
  {
   "cell_type": "raw",
   "id": "80f4bda4-5194-4736-a172-af3466aa9cbb",
   "metadata": {},
   "source": [
    "Integer, float, string, boolean, complex, list"
   ]
  },
  {
   "cell_type": "markdown",
   "id": "84597c20-6e92-4e17-853e-fdd2a715de8b",
   "metadata": {},
   "source": [
    "**-------------------------------------------------------------------------------------------------**"
   ]
  },
  {
   "cell_type": "markdown",
   "id": "bf6ae917-ff89-4721-875a-4905302662d8",
   "metadata": {},
   "source": [
    "**Number 4**"
   ]
  },
  {
   "cell_type": "markdown",
   "id": "8deaec68-6c4f-4e28-8901-3213081ff6ed",
   "metadata": {},
   "source": [
    "What is an expression made up of? What do all expressions do?"
   ]
  },
  {
   "cell_type": "markdown",
   "id": "0153b97f-0aab-4f11-98a8-6f0fbf3c4ad3",
   "metadata": {},
   "source": [
    "**Answer**"
   ]
  },
  {
   "cell_type": "raw",
   "id": "5e28b3fa-b346-4914-8998-cac2649c338b",
   "metadata": {},
   "source": [
    "Expression is combinations of variables, operators and constants. calling a function is also an expression.\n",
    "Eg: Total = Var_A + Var_B + 5\n",
    "Python will interpret the expression and execute the code and we will be getting our result based on code\n",
    "Eg: if Var_ A = 10, Var_B=5 then above expression will give us result like \n",
    "Total = 20"
   ]
  },
  {
   "cell_type": "markdown",
   "id": "73afadc0-b7cb-4988-87fc-5c30f505d278",
   "metadata": {},
   "source": [
    "**-------------------------------------------------------------------------------------------------**"
   ]
  },
  {
   "cell_type": "markdown",
   "id": "3251a92e-bbc6-4807-8db9-67b2e73c4805",
   "metadata": {},
   "source": [
    "**Number 5**"
   ]
  },
  {
   "cell_type": "markdown",
   "id": "bec4d25f-23dc-4690-a089-fb1487450792",
   "metadata": {},
   "source": [
    "This assignment statements, like spam = 10. What is the difference between an expression and a statement?"
   ]
  },
  {
   "cell_type": "markdown",
   "id": "c043d9d5-f35d-4534-83f6-9347a144b51e",
   "metadata": {},
   "source": [
    "**Answer**"
   ]
  },
  {
   "cell_type": "raw",
   "id": "10d43ff0-35bd-4520-ab45-2ce143ed2ac9",
   "metadata": {},
   "source": [
    "Python interpreter will ignore executing statements, statements(Comments) are widely used to make other people understand the code or sometimes, if code is complex, comments helps the developer too.\n",
    "# with help of this, we can use single line statement\n",
    "‘’’...’’’ with help of this, we can write multiple line statements\n",
    "while expressions are interpreted by python and execute that code block or single expression."
   ]
  },
  {
   "cell_type": "markdown",
   "id": "39e89134-e8fa-47a9-842f-4cee3a5d7771",
   "metadata": {},
   "source": [
    "**-------------------------------------------------------------------------------------------------**"
   ]
  },
  {
   "cell_type": "markdown",
   "id": "40190c31-2828-43fb-900c-01dd15ffb143",
   "metadata": {},
   "source": [
    "**Number 6**"
   ]
  },
  {
   "cell_type": "markdown",
   "id": "b7d9ae03-5033-4f3b-a62f-cd17a3b19d76",
   "metadata": {},
   "source": [
    "After running the following code, what does the variable bacon contain?\n",
    "\n",
    "\n",
    "\n",
    "bacon = 22\n",
    "\n",
    "\r\n",
    "bacon +1\r\n",
    "\n"
   ]
  },
  {
   "cell_type": "markdown",
   "id": "6e670d07-198c-4ae5-9a05-c9c29833ce89",
   "metadata": {},
   "source": [
    "**Answer**"
   ]
  },
  {
   "cell_type": "raw",
   "id": "65d63d81-60ef-4c22-a060-02d8eaf7eab8",
   "metadata": {},
   "source": [
    "bacon value 23. Explanation: bacon holds integer value and then we are adding 1 to it."
   ]
  },
  {
   "cell_type": "markdown",
   "id": "89fb9ff2-48aa-4c56-9be6-f3ffdff2c007",
   "metadata": {},
   "source": [
    "**-------------------------------------------------------------------------------------------------**"
   ]
  },
  {
   "cell_type": "markdown",
   "id": "50174803-a246-4f97-a2b7-358fb562332a",
   "metadata": {},
   "source": [
    "**Number 7**"
   ]
  },
  {
   "cell_type": "markdown",
   "id": "07e78c3e-3251-45db-91ba-69a110d3657f",
   "metadata": {},
   "source": [
    "What should the values of the following two terms be?\n",
    "\n",
    "\n",
    "''spam' + 'spamspam'\n",
    "\r\n",
    "'spam' *3\r\n",
    "\n",
    "\n"
   ]
  },
  {
   "cell_type": "markdown",
   "id": "7bd37f17-efc1-455b-b358-ed750c2bd29e",
   "metadata": {},
   "source": [
    "**Answer**"
   ]
  },
  {
   "cell_type": "raw",
   "id": "61aa9455-9e39-4d5a-9e1b-b6937126752e",
   "metadata": {},
   "source": [
    "‘spamspamspam’\n",
    "‘spamspamspam’\n"
   ]
  },
  {
   "cell_type": "markdown",
   "id": "1283a304-4674-46c8-b94a-7f442b69a783",
   "metadata": {},
   "source": [
    "**-------------------------------------------------------------------------------------------------**"
   ]
  },
  {
   "cell_type": "markdown",
   "id": "830a3fb6-470a-42b1-aada-b1e81ac53b65",
   "metadata": {},
   "source": [
    "**Number 8**"
   ]
  },
  {
   "cell_type": "markdown",
   "id": "65de0c8d-919e-4e1f-8c90-1cda7f23b59e",
   "metadata": {},
   "source": [
    "Why is eggs a valid variable name while 100 is invalid?\n",
    "\n",
    "\n"
   ]
  },
  {
   "cell_type": "markdown",
   "id": "43be8f5f-1d9e-419d-9bda-73270d892a70",
   "metadata": {},
   "source": [
    "**Answer**"
   ]
  },
  {
   "cell_type": "raw",
   "id": "9c8dcdfe-ccbe-4a48-9050-f027777cedbe",
   "metadata": {},
   "source": [
    "In python variable name should not be startwith number of special characters except underscore(_). that is the reason eggs is a valid name and 100 not."
   ]
  },
  {
   "cell_type": "markdown",
   "id": "4164cc80-b11d-4041-95d6-22ac7a37e432",
   "metadata": {},
   "source": [
    "**-------------------------------------------------------------------------------------------------**"
   ]
  },
  {
   "cell_type": "markdown",
   "id": "6f7702af-42c5-4f37-998b-03489b24097b",
   "metadata": {},
   "source": [
    "**Number 9**"
   ]
  },
  {
   "cell_type": "markdown",
   "id": "f8d48799-348b-4e0f-9204-ba4fd9922193",
   "metadata": {},
   "source": [
    "What three functions can be used to get the integer, floating-point number, or string version of a value?\n"
   ]
  },
  {
   "cell_type": "markdown",
   "id": "d1c82805-70ed-4c3e-a4fc-0cc48ae06b9f",
   "metadata": {},
   "source": [
    "**Answer**"
   ]
  },
  {
   "cell_type": "raw",
   "id": "b5eceecc-51d6-4792-b580-01576eaaea5a",
   "metadata": {},
   "source": [
    "int() for integer\n",
    "float() for floating-point number\n",
    "str() for string"
   ]
  },
  {
   "cell_type": "markdown",
   "id": "ee270b27-2c98-42b8-a4e5-31e7e1d82af2",
   "metadata": {},
   "source": [
    "**-------------------------------------------------------------------------------------------------**"
   ]
  },
  {
   "cell_type": "markdown",
   "id": "ed7dd0d4-064b-468e-9424-86a483b5bb9a",
   "metadata": {},
   "source": [
    "**Number 10**"
   ]
  },
  {
   "cell_type": "markdown",
   "id": "e8810dd2-cbff-4506-b4e1-161feb08e35b",
   "metadata": {},
   "source": [
    "Why does this expression cause an error? How can you fix it?\n",
    "\r\n",
    "'I have eaten ' + 99 + ' burritos.\r\n"
   ]
  },
  {
   "cell_type": "markdown",
   "id": "1aacf458-9eb4-43f8-8f41-3887e391579a",
   "metadata": {},
   "source": [
    "**Answer**"
   ]
  },
  {
   "cell_type": "raw",
   "id": "0b8a8bd3-e567-4d1b-900e-329e8569c393",
   "metadata": {},
   "source": [
    "Because 99 is integer, only string can be concatenated using + operator.\n",
    "we can use format string or simple “, “ operator to get the desired output.\n",
    "Eg: ‘I have eater ‘, 99 , ‘burritos.’"
   ]
  }
 ],
 "metadata": {
  "kernelspec": {
   "display_name": "Python 3 (ipykernel)",
   "language": "python",
   "name": "python3"
  },
  "language_info": {
   "codemirror_mode": {
    "name": "ipython",
    "version": 3
   },
   "file_extension": ".py",
   "mimetype": "text/x-python",
   "name": "python",
   "nbconvert_exporter": "python",
   "pygments_lexer": "ipython3",
   "version": "3.11.5"
  }
 },
 "nbformat": 4,
 "nbformat_minor": 5
}
