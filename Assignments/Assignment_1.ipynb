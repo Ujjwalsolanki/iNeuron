{
 "cells": [
  {
   "cell_type": "markdown",
   "id": "a6ff774a",
   "metadata": {},
   "source": [
    "**Number 1** \n",
    "\n",
    "In the below elements which of them are values or an expression? eg:- values can be integer or string and expressions will be mathematical operators.\n",
    "\n",
    "**Answer:**\n",
    "\n",
    "\n",
    "('hello') String Value\n",
    "\n",
    "(-87.8) Float Value\n",
    "\n",
    "(-) Expression\n",
    "\n",
    "(/) Expression\n",
    "\n",
    "(+) Expression\n",
    "\n",
    "(6) Interger Value\n",
    "\n",
    "(*) Expression\n",
    "\n",
    "**------------------------------------------------------------------------------------------------**"
   ]
  },
  {
   "cell_type": "markdown",
   "id": "c006005e",
   "metadata": {},
   "source": [
    "**Number 2** \n",
    "\n",
    "What is the difference between string and variable?\n",
    "\n",
    "**Answer:** \n",
    "\n",
    "String is static and immutable value\n",
    "where variables can be anything Integer, string, float or an object of a class. they are mutable. Variables can also hold string data as well.\n",
    "\n",
    "**------------------------------------------------------------------------------------------------**"
   ]
  },
  {
   "cell_type": "markdown",
   "id": "70f50b9b",
   "metadata": {},
   "source": [
    "**Number 3** \n",
    "\n",
    "Describe three different data types.\n",
    "\n",
    "**Answer:** \n",
    "\n",
    "Integer, float, string, boolean, complex, list\n",
    "\n",
    "**------------------------------------------------------------------------------------------------**\n"
   ]
  },
  {
   "cell_type": "markdown",
   "id": "baef0388",
   "metadata": {},
   "source": [
    "**Number 4** \n",
    "\n",
    "What is an expression made up of? What do all expressions do?\n",
    "\n",
    "\n",
    "**Answer:** \n",
    "\n",
    "Expression is combinations of variables, operators and constants. calling a function is also an expression.\n",
    "Eg: Total = Var_A + Var_B + 5\n",
    "Python will interpret the expression and execute the code and we will be getting our result based on code\n",
    "Eg: if Var_ A = 10, Var_B=5 then above expression will give us result like \n",
    "Total = 20\n",
    "\n",
    "**------------------------------------------------------------------------------------------------**"
   ]
  },
  {
   "cell_type": "markdown",
   "id": "b8ed4680",
   "metadata": {},
   "source": [
    "**Number 5** \n",
    "\n",
    "This assignment statements, like spam = 10. What is the difference between an expression and a statement?\n",
    "\n",
    "**Answer:** \n",
    "\n",
    "Python interpreter will ignore executing statements, statements(Comments) are widely used to make other people understand the code or sometimes, if code is complex, comments helps the developer too.\n",
    "\"#\"with help of this, we can use single line statement\n",
    "‘’’...’’’ with help of this, we can write multiple line statements\n",
    "while expressions are interpreted by python and execute that code block or single expression.\n",
    "\n",
    "**------------------------------------------------------------------------------------------------**"
   ]
  },
  {
   "cell_type": "markdown",
   "id": "21aaac63",
   "metadata": {},
   "source": [
    "**Number 6** \n",
    "\n",
    "After running the following code, what does the variable bacon contain?\n",
    "bacon = 22\n",
    "bacon + 1\n",
    "\n",
    "\n",
    "**Answer:** \n",
    "\n",
    "bacon value 23. Explanation: bacon holds integer value and then we are adding 1 to it.\n",
    "\n",
    "**------------------------------------------------------------------------------------------------**"
   ]
  },
  {
   "cell_type": "markdown",
   "id": "fee714a8",
   "metadata": {},
   "source": [
    "**Number 7**\n",
    "\n",
    " What should the values of the following two terms be?\n",
    "'spam' + 'spamspam'\n",
    "'spam' * 3\n",
    "\n",
    "**Answer:**\n",
    "\n",
    "\n",
    "‘spamspamspam’\n",
    "\n",
    "‘spamspamspam’\n",
    "\n",
    "**------------------------------------------------------------------------------------------------**"
   ]
  },
  {
   "cell_type": "markdown",
   "id": "c176232d",
   "metadata": {},
   "source": [
    "**Number 8** \n",
    "\n",
    "Why is eggs a valid variable name while 100 is invalid?\n",
    "\n",
    "\n",
    "**Answer:** \n",
    "\n",
    "In python variable name should not be startwith number of special characters except underscore(_). that is the reason eggs is a valid name and 100 not.\n",
    "\n",
    "**------------------------------------------------------------------------------------------------**"
   ]
  },
  {
   "cell_type": "markdown",
   "id": "f8760c22",
   "metadata": {},
   "source": [
    "**Number 9** \n",
    "\n",
    "What three functions can be used to get the integer, floating-point number, or string version of a value?\n",
    "\n",
    "**Answer:** \n",
    "\n",
    "int() for integer\n",
    "\n",
    "float() for floating-point number\n",
    "\n",
    "str() for string\n",
    "\n",
    "\n",
    "**------------------------------------------------------------------------------------------------**"
   ]
  },
  {
   "cell_type": "markdown",
   "id": "72e49fd8",
   "metadata": {},
   "source": [
    "**Number 10**\n",
    "\n",
    "Why does this expression cause an error? How can you fix it?\n",
    "\n",
    "'I have eaten ' + 99 + ' burritos.'\n",
    "\n",
    "\n",
    "**Answer:** \n",
    "\n",
    "Because 99 is integer, only string can be concatenated using + operator.\n",
    "we can use format string or simple “, “ operator to get the desired output.\n",
    "Eg: ‘I have eater ‘, 99 , ‘burritos.’\n",
    "\n",
    "**------------------------------------------------------------------------------------------------**"
   ]
  },
  {
   "cell_type": "markdown",
   "id": "27255f8c",
   "metadata": {},
   "source": []
  }
 ],
 "metadata": {
  "kernelspec": {
   "display_name": "Python 3",
   "language": "python",
   "name": "python3"
  },
  "language_info": {
   "codemirror_mode": {
    "name": "ipython",
    "version": 3
   },
   "file_extension": ".py",
   "mimetype": "text/x-python",
   "name": "python",
   "nbconvert_exporter": "python",
   "pygments_lexer": "ipython3",
   "version": "3.8.10"
  }
 },
 "nbformat": 4,
 "nbformat_minor": 5
}
