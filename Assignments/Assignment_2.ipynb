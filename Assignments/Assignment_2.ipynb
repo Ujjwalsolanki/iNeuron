{
 "cells": [
  {
   "cell_type": "markdown",
   "id": "9ee915d8",
   "metadata": {},
   "source": [
    "**Number 1** \n",
    "\n",
    "What are the two values of the Boolean data type? How do you write them?\n",
    "\n",
    "\n",
    "**Answer:** \n",
    "\n",
    "Boolean data type represents True(1) or False(0) value based on given expression\n",
    "Eg: pass = marks >= 40, here pass will hold either True or False depends on the value in marks variable. by default boolean variable holds False as a default value.\n",
    "\n",
    "\n",
    "**------------------------------------------------------------------------------------------------**"
   ]
  },
  {
   "cell_type": "markdown",
   "id": "0a2236a2",
   "metadata": {},
   "source": [
    "**Number 2** \n",
    "\n",
    "What are the three different types of Boolean operators?\n",
    "\n",
    "**Answer:**\n",
    "\n",
    "and, or and not\n",
    "\n",
    "**------------------------------------------------------------------------------------------------**"
   ]
  },
  {
   "cell_type": "markdown",
   "id": "88a4bc36",
   "metadata": {},
   "source": [
    "**Number 3** \n",
    "\n",
    "Make a list of each Boolean operator's truth tables (i.e. every possible combination of Boolean values for the operator and what it evaluate ).\n",
    "\n",
    "\n",
    "**Answer:** \n",
    "\n",
    "False and False = False\n",
    "\n",
    "False and True = False\n",
    "\n",
    "True and False = False\n",
    "\n",
    "True and True = True\n",
    "\n",
    "\n",
    "False or False = False\n",
    "\n",
    "False or True = True\n",
    "\n",
    "True or False = True\n",
    "\n",
    "True or True = True\n",
    "\n",
    "\n",
    "not False = True\n",
    "\n",
    "not True = False\n",
    "\n",
    "\n",
    "**------------------------------------------------------------------------------------------------**"
   ]
  },
  {
   "cell_type": "markdown",
   "id": "ed95a18f",
   "metadata": {},
   "source": [
    "**Number 4** \n",
    "\n",
    "What are the values of the following expressions?\n",
    "\n",
    "(5 > 4) and (3 == 5) **False**\n",
    "\n",
    "not (5 > 4) **False**\n",
    "\n",
    "(5 > 4) or (3 == 5) **True**\n",
    "\n",
    "not ((5 > 4) or (3 == 5)) **False**\n",
    "\n",
    "(True and True) and (True == False) **False**\n",
    "\n",
    "(not False) or (not True) **True**\n",
    "\n",
    "**------------------------------------------------------------------------------------------------**\n"
   ]
  },
  {
   "cell_type": "markdown",
   "id": "63e8b14d",
   "metadata": {},
   "source": [
    "**Number 5** \n",
    "\n",
    "What are the six comparison operators?\n",
    "\n",
    "\n",
    "**Answer:**\n",
    "\n",
    "\n",
    "==, !=, <, >, <=, and >=.\n",
    "\n",
    "**------------------------------------------------------------------------------------------------**"
   ]
  },
  {
   "cell_type": "markdown",
   "id": "6f568468",
   "metadata": {},
   "source": [
    "**Number 6** \n",
    "\n",
    "How do you tell the difference between the equal to and assignment operators?Describe a condition and when you would use one.\n",
    "\n",
    "\n",
    "**Answer:** \n",
    "\n",
    "We use == operator to compare values, and we use single = operator to assign values to variables.\n",
    "\n",
    "Eg: total = 100 // Assignment \n",
    "\n",
    "if total == 100 : // comparison\n",
    "\treturn True\n",
    "\n",
    "Conditions are used to determine the flow of the program; it represents boolean values.\n",
    "\n",
    "Eg: if total == 100: // if it's true then block A will execute else block B\n",
    "\trun block A\n",
    "      else:\n",
    "\trun block B\n",
    "\n",
    "\n",
    "**------------------------------------------------------------------------------------------------**"
   ]
  },
  {
   "cell_type": "markdown",
   "id": "7ff0b4ed",
   "metadata": {},
   "source": [
    "**Number 7** \n",
    "\n",
    "Identify the three blocks in this code:\n",
    "\n",
    "spam = 0\n",
    "\n",
    "if spam == 10:\n",
    "\n",
    "print('eggs')\n",
    "\n",
    "if spam > 5:\n",
    "\n",
    "print('bacon')\n",
    "\n",
    "else:\n",
    "\n",
    "print('ham')\n",
    "\n",
    "print('spam')\n",
    "\n",
    "print('spam')\n",
    "\n",
    "**Answer:** \n",
    "\n",
    "if statement contains all 3 blocks\n",
    "\n",
    "**------------------------------------------------------------------------------------------------**"
   ]
  },
  {
   "cell_type": "markdown",
   "id": "44dd332d",
   "metadata": {},
   "source": [
    "**Number 8** \n",
    "\n",
    "Write code that prints Hello if 1 is stored in spam, prints Howdy if 2 is stored in spam, and prints Greetings! if anything else is stored in spam.\n",
    "\n",
    "\n",
    "**Answer:**\n"
   ]
  },
  {
   "cell_type": "code",
   "execution_count": 4,
   "id": "a7fb5a7a",
   "metadata": {},
   "outputs": [
    {
     "name": "stdout",
     "output_type": "stream",
     "text": [
      "Hello\n"
     ]
    }
   ],
   "source": [
    "spam = int(input())\n",
    "\n",
    "if spam == 1:\n",
    "    print('Hello')\n",
    "elif spam == 2:\n",
    "    print('Howdy')\n",
    "else:\n",
    "    print('Greetings!')"
   ]
  },
  {
   "cell_type": "markdown",
   "id": "f751f7cf",
   "metadata": {},
   "source": [
    "**------------------------------------------------------------------------------------------------**"
   ]
  },
  {
   "cell_type": "markdown",
   "id": "96b51bff",
   "metadata": {},
   "source": [
    "**Number 9**\n",
    "\n",
    "If your program is stuck in an endless loop, what keys will you press?\n",
    "\n",
    "\n",
    "**Answer:**\n",
    "\n",
    " Ctrl + C\n",
    "\n",
    " **------------------------------------------------------------------------------------------------**\n"
   ]
  },
  {
   "cell_type": "markdown",
   "id": "2b3d6232",
   "metadata": {},
   "source": [
    "**Number 10** \n",
    "\n",
    "How can you tell the difference between break and continue?\n",
    "\n",
    "\n",
    "**Answer:** \n",
    "\n",
    "\n",
    "Break statement stops the entire process of the loop. Continue statement only stops the current iteration of the loop \n",
    "\n",
    "**------------------------------------------------------------------------------------------------**"
   ]
  },
  {
   "cell_type": "markdown",
   "id": "7dfb84cb",
   "metadata": {},
   "source": [
    "**Number 11**\n",
    "\n",
    "In a for loop, what is the difference between range(10), range(0, 10), and range(0, 10, 1)?\n",
    "\n",
    "\n",
    "**Answer:** \n",
    "\n",
    "They all are same. Start index will be 0 and end index will be 9.\n",
    "in python range function we can pass default value like range(10) and it will iterate from 0 to 9\n",
    "we can also pass default value for start index as well like range(0, 10) and it will iterate from 0 to 9\n",
    "we can pass default value for start index and iterations like range(0 , 10, 1) and it will iterate from 0 to 9\n",
    "\n",
    "eg: range(0 , 10 , 2)\n",
    "\n",
    "this will start with index 0 then 0 + 2\n",
    "\n",
    "index = 2\n",
    "\n",
    "index = 4\n",
    "\n",
    "index =5\n",
    "\n",
    "terminate the loop.\n",
    "\n",
    "**------------------------------------------------------------------------------------------------**"
   ]
  },
  {
   "cell_type": "markdown",
   "id": "bf7f9e2a",
   "metadata": {},
   "source": [
    "**Number 12** \n",
    "\n",
    "Write a short program that prints the numbers 1 to 10 using a for loop. Then write an equivalent program that prints the numbers 1 to 10 using a while loop.\n",
    "\n",
    "\n",
    "**Answer:**"
   ]
  },
  {
   "cell_type": "markdown",
   "id": "2dd8eda2-afba-4b98-955e-0f7bf12398af",
   "metadata": {},
   "source": [
    "*For loop*"
   ]
  },
  {
   "cell_type": "code",
   "execution_count": 5,
   "id": "dc12c70a-3db6-4677-ae51-c180837866d2",
   "metadata": {},
   "outputs": [
    {
     "name": "stdout",
     "output_type": "stream",
     "text": [
      "1\n",
      "2\n",
      "3\n",
      "4\n",
      "5\n",
      "6\n",
      "7\n",
      "8\n",
      "9\n",
      "10\n"
     ]
    }
   ],
   "source": [
    "for i in range(10):\n",
    "    print(i+1)"
   ]
  },
  {
   "cell_type": "markdown",
   "id": "0eec3060-9e3d-44d5-a1d6-9cf5f3541bae",
   "metadata": {},
   "source": [
    "*while loop*"
   ]
  },
  {
   "cell_type": "code",
   "execution_count": 6,
   "id": "f8d50591",
   "metadata": {
    "scrolled": true
   },
   "outputs": [
    {
     "name": "stdout",
     "output_type": "stream",
     "text": [
      "1\n",
      "2\n",
      "3\n",
      "4\n",
      "5\n",
      "6\n",
      "7\n",
      "8\n",
      "9\n",
      "10\n"
     ]
    }
   ],
   "source": [
    "i = 1\n",
    "while(i<11):\n",
    "    print(i)\n",
    "    i += 1"
   ]
  },
  {
   "cell_type": "markdown",
   "id": "8fa37b9e-9023-41df-bc04-167bd55c2fa0",
   "metadata": {},
   "source": [
    "**------------------------------------------------------------------------------------------------**"
   ]
  },
  {
   "cell_type": "markdown",
   "id": "0ad42d82",
   "metadata": {},
   "source": [
    "**Number 13** \n",
    "\n",
    "If you had a function named bacon() inside a module named spam, how would you call it after importing spam?\n",
    "\n",
    "\n",
    "**Answer:**\n",
    "\n",
    "\n",
    "import spam\n",
    "\n",
    "var = spam.bacon()\n",
    "\n",
    "**------------------------------------------------------------------------------------------------**"
   ]
  }
 ],
 "metadata": {
  "kernelspec": {
   "display_name": "Python 3 (ipykernel)",
   "language": "python",
   "name": "python3"
  },
  "language_info": {
   "codemirror_mode": {
    "name": "ipython",
    "version": 3
   },
   "file_extension": ".py",
   "mimetype": "text/x-python",
   "name": "python",
   "nbconvert_exporter": "python",
   "pygments_lexer": "ipython3",
   "version": "3.8.10"
  }
 },
 "nbformat": 4,
 "nbformat_minor": 5
}
