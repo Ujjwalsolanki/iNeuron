{
 "cells": [
  {
   "cell_type": "markdown",
   "id": "c871ac03",
   "metadata": {},
   "source": [
    "**Number 1**\n",
    "\n",
    "What are escape characters, and how do you use them?\n",
    "\n",
    "**Answer**\n",
    "\n",
    "escape character could be t(tab), n(New line), or backslash itself(/)\n",
    "Following would be the syntax for an escape sequence\n",
    "\n",
    "\\Escape character\n",
    "\n",
    "\n",
    "**------------------------------------------------------------------------------------------------**"
   ]
  },
  {
   "cell_type": "markdown",
   "id": "73d05895",
   "metadata": {},
   "source": [
    "**Number 2**\n",
    "\n",
    "What do the escape characters n and t stand for?\n",
    "\n",
    "**Answer**\n",
    "\n",
    "n stands for new line\n",
    "t stands for tab\n",
    "\n",
    "**------------------------------------------------------------------------------------------------**"
   ]
  },
  {
   "cell_type": "markdown",
   "id": "5b024f89",
   "metadata": {},
   "source": [
    "**Number 3**\n",
    "\n",
    "What is the way to include backslash characters in a string?\n",
    "\n",
    "**Answer**\n",
    "using escaped backslash: \\\\\n",
    "\n",
    "**------------------------------------------------------------------------------------------------**"
   ]
  },
  {
   "cell_type": "markdown",
   "id": "ec1dfbe2",
   "metadata": {},
   "source": [
    "**Number 4**\n",
    "\n",
    "The string \"Howl's Moving Castle\" is a correct value. Why isn't the single quote character in the\n",
    "word Howl's not escaped a problem?\n",
    "\n",
    "**Answer**\n",
    "\n",
    "as we have written in doubel qoutes \"\", if we want to use \"\" in string then we may start string with single qoutes '' and vice versa\n",
    "\n",
    "\n",
    "**------------------------------------------------------------------------------------------------**"
   ]
  },
  {
   "cell_type": "markdown",
   "id": "fd0d574b-9048-4949-bc1b-f9c0868c4136",
   "metadata": {},
   "source": [
    "**Number 5**\n",
    "\n",
    "How do you write a string of newlines if you don&#39;t want to use the n character?\n",
    "\n",
    "**Answer**\n",
    "\n",
    "using triple qoutes '''...'''\n",
    "\n",
    "**------------------------------------------------------------------------------------------------**"
   ]
  },
  {
   "cell_type": "markdown",
   "id": "e74bf0b2",
   "metadata": {},
   "source": [
    "**Number 6**\n",
    "\n",
    "What are the values of the given expressions?\n",
    "'Hello, world!'[1]\n",
    "'Hello, world!'[0:5]\n",
    "'Hello, world!'[:5]\n",
    "'Hello, world!'[3:]\n",
    "\n",
    "\n",
    "**Answer**\n",
    "'e'\n",
    "'Hello'\n",
    "'Hello'\n",
    "'lo world!'\n",
    "\n"
   ]
  },
  {
   "cell_type": "code",
   "execution_count": 7,
   "id": "e34037e4",
   "metadata": {},
   "outputs": [
    {
     "name": "stdout",
     "output_type": "stream",
     "text": [
      "e\n",
      "Hello\n",
      "Hello\n",
      "lo, world!\n"
     ]
    }
   ],
   "source": [
    "print('Hello, world!'[1])\n",
    "print('Hello, world!'[0:5])\n",
    "print('Hello, world!'[:5])\n",
    "print('Hello, world!'[3:])"
   ]
  },
  {
   "cell_type": "markdown",
   "id": "f5efcc23-83f8-4b78-8a05-38c47e202973",
   "metadata": {},
   "source": [
    "**------------------------------------------------------------------------------------------------**"
   ]
  },
  {
   "cell_type": "markdown",
   "id": "0a858971",
   "metadata": {},
   "source": [
    "**Number 7**\n",
    "\n",
    "What are the values of the following expressions?\n",
    "'Hello'.upper()\n",
    "'Hello'.upper().isupper()\n",
    "'Hello'.upper().lower()\n",
    "\n",
    "\n",
    "**Answer**\n",
    "\n",
    "'HELLO'\n",
    "True\n",
    "'hello'\n",
    "\n",
    "**------------------------------------------------------------------------------------------------**"
   ]
  },
  {
   "cell_type": "markdown",
   "id": "9188829a",
   "metadata": {},
   "source": [
    "**Number 8**\n",
    "\n",
    "What are the values of the following expressions?\n",
    "\n",
    "'Remember, remember, the fifth of July.'.split()'-'.join('There can only one.'.split())\n",
    "\n",
    "**Answer**\n",
    "\n",
    "['Remember,', 'remember,', 'the', 'fifth', 'of', 'July.']\n",
    "\n",
    "'There-can-only-one.'"
   ]
  },
  {
   "cell_type": "code",
   "execution_count": 8,
   "id": "b14b4cf1",
   "metadata": {},
   "outputs": [
    {
     "data": {
      "text/plain": [
       "['Remember,', 'remember,', 'the', 'fifth', 'of', 'July.']"
      ]
     },
     "execution_count": 8,
     "metadata": {},
     "output_type": "execute_result"
    }
   ],
   "source": [
    "'Remember, remember, the fifth of July.'.split()\n"
   ]
  },
  {
   "cell_type": "code",
   "execution_count": 9,
   "id": "be4c0303",
   "metadata": {},
   "outputs": [
    {
     "data": {
      "text/plain": [
       "'There-can-only-one.'"
      ]
     },
     "execution_count": 9,
     "metadata": {},
     "output_type": "execute_result"
    }
   ],
   "source": [
    "'-'.join('There can only one.'.split())"
   ]
  },
  {
   "cell_type": "markdown",
   "id": "191ded6b-807d-44e2-8fb8-8653aecd9dec",
   "metadata": {},
   "source": [
    "**------------------------------------------------------------------------------------------------**"
   ]
  },
  {
   "cell_type": "markdown",
   "id": "cc3e690e",
   "metadata": {},
   "source": [
    "**Number 9**\n",
    "\n",
    "What are the methods for right-justifying, left-justifying, and centering a string?\n",
    "\n",
    "**Answer**\n",
    "\n",
    "rjust()\n",
    "ljust()\n",
    "center()\n",
    "\n",
    "**------------------------------------------------------------------------------------------------**"
   ]
  },
  {
   "cell_type": "markdown",
   "id": "8daf2978",
   "metadata": {},
   "source": [
    "**Number 10**\n",
    "\n",
    "What is the best way to remove whitespace characters from the start or end?\n",
    "\n",
    "**Answer**\n",
    "\n",
    "strip() method\n",
    "\n",
    "**------------------------------------------------------------------------------------------------**"
   ]
  }
 ],
 "metadata": {
  "kernelspec": {
   "display_name": "Python 3 (ipykernel)",
   "language": "python",
   "name": "python3"
  },
  "language_info": {
   "codemirror_mode": {
    "name": "ipython",
    "version": 3
   },
   "file_extension": ".py",
   "mimetype": "text/x-python",
   "name": "python",
   "nbconvert_exporter": "python",
   "pygments_lexer": "ipython3",
   "version": "3.11.5"
  }
 },
 "nbformat": 4,
 "nbformat_minor": 5
}
