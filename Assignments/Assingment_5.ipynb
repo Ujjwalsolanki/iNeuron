{
 "cells": [
  {
   "cell_type": "markdown",
   "id": "c871ac03",
   "metadata": {},
   "source": [
    "**Number 1**\n",
    "\n",
    "What does an empty dictionary's code look like?\n",
    "\n",
    "**Answer**\n",
    "\n",
    "An empty pair of curly braces {}\n",
    "\n",
    "**------------------------------------------------------------------------------------------------**"
   ]
  },
  {
   "cell_type": "markdown",
   "id": "73d05895",
   "metadata": {},
   "source": [
    "**Number 2**\n",
    "\n",
    "What is the value of a dictionary value with the key &#39;foo&#39; and the value 42?\n",
    "\n",
    "**Answer**\n",
    "\n",
    "dict = {'foo': 42}\n",
    "\n",
    "**------------------------------------------------------------------------------------------------**"
   ]
  },
  {
   "cell_type": "markdown",
   "id": "5b024f89",
   "metadata": {},
   "source": [
    "**Number 3**\n",
    "\n",
    "What is the most significant distinction between a dictionary and a list?\n",
    "\n",
    "**Answer**\n",
    "The elements in a list are ordered, and the elements in a dictionary aren't.\n",
    "Also, elements in a list must be accessed using numerical indices. Elements in a dictionary are indexed using keys, which can have different data types. \n",
    "\n",
    "\n",
    "**------------------------------------------------------------------------------------------------**"
   ]
  },
  {
   "cell_type": "markdown",
   "id": "ec1dfbe2",
   "metadata": {},
   "source": [
    "**Number 4**\n",
    "\n",
    "What happens if you try to access spam['foo'] if spam is {'bar': 100}?\n",
    "\n",
    "**Answer**\n",
    "\n",
    "You will get a KeyError error.\n",
    "\n",
    "**------------------------------------------------------------------------------------------------**"
   ]
  },
  {
   "cell_type": "markdown",
   "id": "fd0d574b-9048-4949-bc1b-f9c0868c4136",
   "metadata": {},
   "source": [
    "**Number 5**\n",
    "\n",
    "If a dictionary is stored in spam, what is the difference between the expressions 'cat' in spam and\n",
    "'cat' in spam.keys()?\n",
    "\n",
    "**Answer**\n",
    "\n",
    "There is no difference, the expression \" 'cat' in spam \" checks whether 'cat' is a key in spam.\n",
    "\n",
    "**------------------------------------------------------------------------------------------------**"
   ]
  },
  {
   "cell_type": "markdown",
   "id": "e74bf0b2",
   "metadata": {},
   "source": [
    "**Number 6**\n",
    "\n",
    "If a dictionary is stored in spam, what is the difference between the expressions 'cat' in spam and 'cat' in spam.values()?\n",
    "\n",
    "**Answer**\n",
    "\n",
    "'cat' in spam checks whether'cat' exists as a key in spam. 'cat' in spam.values() checks whether 'cat' is a value in spam.\n",
    "\n",
    "\n",
    "**------------------------------------------------------------------------------------------------**"
   ]
  },
  {
   "cell_type": "markdown",
   "id": "0a858971",
   "metadata": {},
   "source": [
    "**Number 7**\n",
    "\n",
    "What is a shortcut for the following code?\n",
    "\n",
    "if 'color' not in spam:\n",
    "spam['color'] = 'black'\n",
    "\n",
    "**Answer**\n",
    "\n",
    "spam.setdefault('color','black')\n",
    "\n",
    "**------------------------------------------------------------------------------------------------**"
   ]
  },
  {
   "cell_type": "markdown",
   "id": "9188829a",
   "metadata": {},
   "source": [
    "**Number 8**\n",
    "\n",
    "How do you 'pretty print' dictionary values using which module and function?\n",
    "\n",
    "**Answer**\n",
    "\n",
    "The module is pprint.\n",
    "The functions are pprint.pprint() and pprint.pformat().\n",
    "\n",
    "**------------------------------------------------------------------------------------------------**"
   ]
  }
 ],
 "metadata": {
  "kernelspec": {
   "display_name": "Python 3 (ipykernel)",
   "language": "python",
   "name": "python3"
  },
  "language_info": {
   "codemirror_mode": {
    "name": "ipython",
    "version": 3
   },
   "file_extension": ".py",
   "mimetype": "text/x-python",
   "name": "python",
   "nbconvert_exporter": "python",
   "pygments_lexer": "ipython3",
   "version": "3.11.5"
  }
 },
 "nbformat": 4,
 "nbformat_minor": 5
}
